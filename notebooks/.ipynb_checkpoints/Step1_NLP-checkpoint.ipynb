{
 "cells": [
  {
   "cell_type": "code",
   "execution_count": 2,
   "metadata": {
    "executionInfo": {
     "elapsed": 505,
     "status": "ok",
     "timestamp": 1678722019555,
     "user": {
      "displayName": "Phuoc Tri Vo",
      "userId": "16150899667672929104"
     },
     "user_tz": -420
    },
    "id": "ywQuHQiP4SDM"
   },
   "outputs": [],
   "source": [
    "# Nạp các gói thư viện NumPy và Pandas\n",
    "import pandas as pd\n",
    "import numpy as np\n",
    "import regex\n",
    "import string"
   ]
  },
  {
   "cell_type": "code",
   "execution_count": 1,
   "metadata": {},
   "outputs": [],
   "source": [
    "#Tạo đường link\n",
    "import sys\n",
    "import os\n",
    "\n",
    "current = os.path.abspath('')\n",
    "parent = os.path.dirname(current)\n",
    "grandparent = os.path.dirname(parent)"
   ]
  },
  {
   "cell_type": "code",
   "execution_count": 3,
   "metadata": {
    "colab": {
     "base_uri": "https://localhost:8080/"
    },
    "collapsed": true,
    "executionInfo": {
     "elapsed": 5603,
     "status": "ok",
     "timestamp": 1678722025156,
     "user": {
      "displayName": "Phuoc Tri Vo",
      "userId": "16150899667672929104"
     },
     "user_tz": -420
    },
    "id": "JxXxbYaR5E3b",
    "outputId": "ee325784-c247-44e3-f4b8-a0105d0a583f"
   },
   "outputs": [
    {
     "name": "stdout",
     "output_type": "stream",
     "text": [
      "Requirement already satisfied: underthesea in /opt/anaconda3/lib/python3.8/site-packages (1.3.4)\r\n",
      "Requirement already satisfied: tqdm in /opt/anaconda3/lib/python3.8/site-packages (from underthesea) (4.65.0)\r\n",
      "Requirement already satisfied: PyYAML in /opt/anaconda3/lib/python3.8/site-packages (from underthesea) (6.0)\r\n",
      "Requirement already satisfied: Click>=6.0 in /opt/anaconda3/lib/python3.8/site-packages (from underthesea) (8.0.4)\r\n",
      "Requirement already satisfied: unidecode in /opt/anaconda3/lib/python3.8/site-packages (from underthesea) (1.2.0)\r\n",
      "Requirement already satisfied: requests in /opt/anaconda3/lib/python3.8/site-packages (from underthesea) (2.31.0)\r\n",
      "Requirement already satisfied: nltk in /opt/anaconda3/lib/python3.8/site-packages (from underthesea) (3.5)\r\n",
      "Requirement already satisfied: joblib in /opt/anaconda3/lib/python3.8/site-packages (from underthesea) (1.2.0)\r\n",
      "Requirement already satisfied: scikit-learn in /opt/anaconda3/lib/python3.8/site-packages (from underthesea) (1.2.2)\r\n",
      "Requirement already satisfied: python-crfsuite>=0.9.6 in /opt/anaconda3/lib/python3.8/site-packages (from underthesea) (0.9.8)\r\n",
      "Requirement already satisfied: underthesea-core==0.0.4_alpha.10 in /opt/anaconda3/lib/python3.8/site-packages (from underthesea) (0.0.4a10)\r\n",
      "Requirement already satisfied: regex in /opt/anaconda3/lib/python3.8/site-packages (from nltk->underthesea) (2022.7.9)\r\n",
      "Requirement already satisfied: charset-normalizer<4,>=2 in /opt/anaconda3/lib/python3.8/site-packages (from requests->underthesea) (2.0.4)\r\n",
      "Requirement already satisfied: idna<4,>=2.5 in /opt/anaconda3/lib/python3.8/site-packages (from requests->underthesea) (3.4)\r\n",
      "Requirement already satisfied: urllib3<3,>=1.21.1 in /opt/anaconda3/lib/python3.8/site-packages (from requests->underthesea) (1.26.16)\r\n",
      "Requirement already satisfied: certifi>=2017.4.17 in /opt/anaconda3/lib/python3.8/site-packages (from requests->underthesea) (2023.7.22)\r\n",
      "Requirement already satisfied: scipy>=1.3.2 in /opt/anaconda3/lib/python3.8/site-packages (from scikit-learn->underthesea) (1.9.1)\r\n",
      "Requirement already satisfied: numpy>=1.17.3 in /opt/anaconda3/lib/python3.8/site-packages (from scikit-learn->underthesea) (1.24.3)\r\n",
      "Requirement already satisfied: threadpoolctl>=2.0.0 in /opt/anaconda3/lib/python3.8/site-packages (from scikit-learn->underthesea) (2.2.0)\r\n"
     ]
    }
   ],
   "source": [
    "# Cài đặt Underthesea\n",
    "!pip install underthesea"
   ]
  },
  {
   "cell_type": "code",
   "execution_count": 59,
   "metadata": {
    "executionInfo": {
     "elapsed": 2612,
     "status": "ok",
     "timestamp": 1678722027761,
     "user": {
      "displayName": "Phuoc Tri Vo",
      "userId": "16150899667672929104"
     },
     "user_tz": -420
    },
    "id": "Grqr3F5M5Kbl"
   },
   "outputs": [],
   "source": [
    "# Underthesea là module mã nguồn mở được dùng để hỗ trợ cho việc phân tích tiếng Việt.\n",
    "# Nguồn: https://github.com/undertheseanlp/underthesea\n",
    "from underthesea import word_tokenize, pos_tag, sent_tokenize"
   ]
  },
  {
   "cell_type": "code",
   "execution_count": 4,
   "metadata": {
    "collapsed": true
   },
   "outputs": [
    {
     "name": "stdout",
     "output_type": "stream",
     "text": [
      "Collecting ttth-mds5-analyzer\n",
      "  Downloading ttth-mds5-analyzer-0.1.8.tar.gz (104 kB)\n",
      "\u001b[2K     \u001b[90m━━━━━━━━━━━━━━━━━━━━━━━━━━━━━━━━━━━━━━━\u001b[0m \u001b[32m104.9/104.9 kB\u001b[0m \u001b[31m1.4 MB/s\u001b[0m eta \u001b[36m0:00:00\u001b[0ma \u001b[36m0:00:01\u001b[0m\n",
      "\u001b[?25h  Preparing metadata (setup.py) ... \u001b[?25ldone\n",
      "\u001b[?25hRequirement already satisfied: matplotlib in /opt/anaconda3/lib/python3.8/site-packages (from ttth-mds5-analyzer) (3.7.1)\n",
      "Requirement already satisfied: pandas in /opt/anaconda3/lib/python3.8/site-packages (from ttth-mds5-analyzer) (1.4.4)\n",
      "Requirement already satisfied: seaborn in /opt/anaconda3/lib/python3.8/site-packages (from ttth-mds5-analyzer) (0.12.2)\n",
      "Requirement already satisfied: scipy in /opt/anaconda3/lib/python3.8/site-packages (from ttth-mds5-analyzer) (1.9.1)\n",
      "Requirement already satisfied: statsmodels in /opt/anaconda3/lib/python3.8/site-packages (from ttth-mds5-analyzer) (0.14.0)\n",
      "Requirement already satisfied: regex in /opt/anaconda3/lib/python3.8/site-packages (from ttth-mds5-analyzer) (2022.7.9)\n",
      "Requirement already satisfied: underthesea in /opt/anaconda3/lib/python3.8/site-packages (from ttth-mds5-analyzer) (1.3.4)\n",
      "Requirement already satisfied: setuptools in /opt/anaconda3/lib/python3.8/site-packages (from ttth-mds5-analyzer) (68.0.0)\n",
      "Requirement already satisfied: pillow>=6.2.0 in /opt/anaconda3/lib/python3.8/site-packages (from matplotlib->ttth-mds5-analyzer) (9.4.0)\n",
      "Requirement already satisfied: pyparsing>=2.3.1 in /opt/anaconda3/lib/python3.8/site-packages (from matplotlib->ttth-mds5-analyzer) (3.0.9)\n",
      "Requirement already satisfied: cycler>=0.10 in /opt/anaconda3/lib/python3.8/site-packages (from matplotlib->ttth-mds5-analyzer) (0.11.0)\n",
      "Requirement already satisfied: contourpy>=1.0.1 in /opt/anaconda3/lib/python3.8/site-packages (from matplotlib->ttth-mds5-analyzer) (1.0.5)\n",
      "Requirement already satisfied: numpy>=1.20 in /opt/anaconda3/lib/python3.8/site-packages (from matplotlib->ttth-mds5-analyzer) (1.24.3)\n",
      "Requirement already satisfied: importlib-resources>=3.2.0 in /opt/anaconda3/lib/python3.8/site-packages (from matplotlib->ttth-mds5-analyzer) (5.7.1)\n",
      "Requirement already satisfied: python-dateutil>=2.7 in /opt/anaconda3/lib/python3.8/site-packages (from matplotlib->ttth-mds5-analyzer) (2.8.2)\n",
      "Requirement already satisfied: kiwisolver>=1.0.1 in /opt/anaconda3/lib/python3.8/site-packages (from matplotlib->ttth-mds5-analyzer) (1.4.4)\n",
      "Requirement already satisfied: fonttools>=4.22.0 in /opt/anaconda3/lib/python3.8/site-packages (from matplotlib->ttth-mds5-analyzer) (4.25.0)\n",
      "Requirement already satisfied: packaging>=20.0 in /opt/anaconda3/lib/python3.8/site-packages (from matplotlib->ttth-mds5-analyzer) (23.0)\n",
      "Requirement already satisfied: pytz>=2020.1 in /opt/anaconda3/lib/python3.8/site-packages (from pandas->ttth-mds5-analyzer) (2022.7)\n",
      "Requirement already satisfied: patsy>=0.5.2 in /opt/anaconda3/lib/python3.8/site-packages (from statsmodels->ttth-mds5-analyzer) (0.5.3)\n",
      "Requirement already satisfied: python-crfsuite>=0.9.6 in /opt/anaconda3/lib/python3.8/site-packages (from underthesea->ttth-mds5-analyzer) (0.9.8)\n",
      "Requirement already satisfied: requests in /opt/anaconda3/lib/python3.8/site-packages (from underthesea->ttth-mds5-analyzer) (2.31.0)\n",
      "Requirement already satisfied: joblib in /opt/anaconda3/lib/python3.8/site-packages (from underthesea->ttth-mds5-analyzer) (1.2.0)\n",
      "Requirement already satisfied: tqdm in /opt/anaconda3/lib/python3.8/site-packages (from underthesea->ttth-mds5-analyzer) (4.65.0)\n",
      "Requirement already satisfied: underthesea-core==0.0.4_alpha.10 in /opt/anaconda3/lib/python3.8/site-packages (from underthesea->ttth-mds5-analyzer) (0.0.4a10)\n",
      "Requirement already satisfied: scikit-learn in /opt/anaconda3/lib/python3.8/site-packages (from underthesea->ttth-mds5-analyzer) (1.2.2)\n",
      "Requirement already satisfied: PyYAML in /opt/anaconda3/lib/python3.8/site-packages (from underthesea->ttth-mds5-analyzer) (6.0)\n",
      "Requirement already satisfied: nltk in /opt/anaconda3/lib/python3.8/site-packages (from underthesea->ttth-mds5-analyzer) (3.5)\n",
      "Requirement already satisfied: unidecode in /opt/anaconda3/lib/python3.8/site-packages (from underthesea->ttth-mds5-analyzer) (1.2.0)\n",
      "Requirement already satisfied: Click>=6.0 in /opt/anaconda3/lib/python3.8/site-packages (from underthesea->ttth-mds5-analyzer) (8.0.4)\n",
      "Requirement already satisfied: zipp>=3.1.0 in /opt/anaconda3/lib/python3.8/site-packages (from importlib-resources>=3.2.0->matplotlib->ttth-mds5-analyzer) (3.11.0)\n",
      "Requirement already satisfied: six in /opt/anaconda3/lib/python3.8/site-packages (from patsy>=0.5.2->statsmodels->ttth-mds5-analyzer) (1.16.0)\n",
      "Requirement already satisfied: certifi>=2017.4.17 in /opt/anaconda3/lib/python3.8/site-packages (from requests->underthesea->ttth-mds5-analyzer) (2023.7.22)\n",
      "Requirement already satisfied: charset-normalizer<4,>=2 in /opt/anaconda3/lib/python3.8/site-packages (from requests->underthesea->ttth-mds5-analyzer) (2.0.4)\n",
      "Requirement already satisfied: urllib3<3,>=1.21.1 in /opt/anaconda3/lib/python3.8/site-packages (from requests->underthesea->ttth-mds5-analyzer) (1.26.16)\n",
      "Requirement already satisfied: idna<4,>=2.5 in /opt/anaconda3/lib/python3.8/site-packages (from requests->underthesea->ttth-mds5-analyzer) (3.4)\n",
      "Requirement already satisfied: threadpoolctl>=2.0.0 in /opt/anaconda3/lib/python3.8/site-packages (from scikit-learn->underthesea->ttth-mds5-analyzer) (2.2.0)\n",
      "Building wheels for collected packages: ttth-mds5-analyzer\n",
      "  Building wheel for ttth-mds5-analyzer (setup.py) ... \u001b[?25ldone\n",
      "\u001b[?25h  Created wheel for ttth-mds5-analyzer: filename=ttth_mds5_analyzer-0.1.8-py3-none-any.whl size=102280 sha256=33db41051d7e65f5a9053da984eb4944f6e9e10633abbbedee970ccfdfbcbf07\n",
      "  Stored in directory: /Users/vophuoctri/Library/Caches/pip/wheels/62/a7/6b/1d121d8510cba054e8abd6fc2b96ef3fcfb3ce00569beaa01e\n",
      "Successfully built ttth-mds5-analyzer\n",
      "Installing collected packages: ttth-mds5-analyzer\n",
      "Successfully installed ttth-mds5-analyzer-0.1.8\n"
     ]
    }
   ],
   "source": [
    "# Caì đặt thư viện TTTH_Analyzer \n",
    "!pip install ttth-mds5-analyzer"
   ]
  },
  {
   "cell_type": "code",
   "execution_count": 5,
   "metadata": {
    "executionInfo": {
     "elapsed": 7,
     "status": "ok",
     "timestamp": 1678722028687,
     "user": {
      "displayName": "Phuoc Tri Vo",
      "userId": "16150899667672929104"
     },
     "user_tz": -420
    },
    "id": "lPW7igNQ5ioi"
   },
   "outputs": [],
   "source": [
    "# TextProcessor là gói thư viện hỗ trợ HV môn MDS5 (của trung tâm tin học Đại học Khoa học Tự Nhiên) \n",
    "# thực hiện các bước xử lý 1 số vấn đề thường gặp ở văn bản Tiếng Việt.\n",
    "# Nguồn: https://pypi.org/project/ttth-mds5-analyzer/\n",
    "from processor.text import TextProcessor\n",
    "text_processor = TextProcessor()"
   ]
  },
  {
   "cell_type": "code",
   "execution_count": 17,
   "metadata": {
    "id": "DwQ-NI2fvFWN"
   },
   "outputs": [],
   "source": [
    "def remove_stockword(text, stockword):\n",
    "    ###### REMOVE stock words\n",
    "    document = ' '.join('' if word.upper() in stockword else word for word in text.split())\n",
    "    ###### DEL excess blank space\n",
    "    document = regex.sub(r'\\s+', ' ', document).strip()\n",
    "    return document"
   ]
  },
  {
   "cell_type": "code",
   "execution_count": 18,
   "metadata": {
    "id": "hMuZh58C1uP_"
   },
   "outputs": [],
   "source": [
    "def remove_time(text):\n",
    "    ###### REMOVE time format\n",
    "    document = ' '.join('' if word.find('/')!=-1 else word for word in text.split())\n",
    "    ###### DEL excess blank space\n",
    "    document = regex.sub(r'\\s+', ' ', document).strip()\n",
    "    return document"
   ]
  },
  {
   "cell_type": "code",
   "execution_count": 19,
   "metadata": {
    "id": "PI8GaepC2Rkl"
   },
   "outputs": [],
   "source": [
    "def remove_timeword(text):\n",
    "    ###### REMOVE time words\n",
    "    document = ' '.join('' if word in ['ngày', 'tháng', 'năm', 'quý', 'lần'] else word for word in text.split())\n",
    "    ###### DEL excess blank space\n",
    "    document = regex.sub(r'\\s+', ' ', document).strip()\n",
    "    return document"
   ]
  },
  {
   "cell_type": "code",
   "execution_count": 27,
   "metadata": {
    "id": "2MrLRGUG5sYd"
   },
   "outputs": [],
   "source": [
    "def clean_text(text, stockword_list):\n",
    "    # Chuyển tất cả chữ trong câu thành chữ thường\n",
    "    sentence = text.lower()\n",
    "    \n",
    "    # Loại bỏ các ký tự số hoặc dấu câu\n",
    "    sentence = text_processor.remove_punctuation_number(sentence)\n",
    "    \n",
    "    # Chuẩn hoá sang unicode\n",
    "    sentence = text_processor.covert_unicode(sentence)\n",
    "    \n",
    "    # Xử lý từ ghép\n",
    "    sentence = text_processor.process_postag_thesea(sentence,\n",
    "                                                    lst_word_type = ['A', 'AB', 'V', 'VB', 'VY', 'R', 'N'])\n",
    "    \n",
    "    # Xử lý từ có không\n",
    "    sentence = text_processor.process_special_word(sentence)\n",
    "    \n",
    "    sentence = remove_stockword(sentence, stockword_list)\n",
    "    sentence = remove_timeword(sentence)\n",
    "    sentence = remove_time(sentence)\n",
    "    return sentence"
   ]
  },
  {
   "cell_type": "code",
   "execution_count": 29,
   "metadata": {},
   "outputs": [
    {
     "data": {
      "text/plain": [
       "'nghị_quyết hđqt v v triệu_tập đhđcđ bất_thường'"
      ]
     },
     "execution_count": 29,
     "metadata": {},
     "output_type": "execute_result"
    }
   ],
   "source": [
    "clean_text('Nghị quyết HĐQT v/v triệu tập ĐHĐCĐ bất thường năm 2023', ['ABC'])"
   ]
  },
  {
   "cell_type": "markdown",
   "metadata": {
    "id": "DR8MATKIbp_3"
   },
   "source": [
    "# Nap du lieu media"
   ]
  },
  {
   "cell_type": "code",
   "execution_count": 48,
   "metadata": {
    "colab": {
     "base_uri": "https://localhost:8080/"
    },
    "executionInfo": {
     "elapsed": 616,
     "status": "ok",
     "timestamp": 1678275449944,
     "user": {
      "displayName": "Phuoc Tri Vo",
      "userId": "16150899667672929104"
     },
     "user_tz": -420
    },
    "id": "C-ocyPoy5vjV",
    "outputId": "ac7d8810-6b5e-4253-f4a1-8c59f8fa79b1"
   },
   "outputs": [
    {
     "data": {
      "text/html": [
       "<div>\n",
       "<style scoped>\n",
       "    .dataframe tbody tr th:only-of-type {\n",
       "        vertical-align: middle;\n",
       "    }\n",
       "\n",
       "    .dataframe tbody tr th {\n",
       "        vertical-align: top;\n",
       "    }\n",
       "\n",
       "    .dataframe thead th {\n",
       "        text-align: right;\n",
       "    }\n",
       "</style>\n",
       "<table border=\"1\" class=\"dataframe\">\n",
       "  <thead>\n",
       "    <tr style=\"text-align: right;\">\n",
       "      <th></th>\n",
       "      <th>Date</th>\n",
       "      <th>Time</th>\n",
       "      <th>Ma_CK</th>\n",
       "      <th>Title</th>\n",
       "    </tr>\n",
       "  </thead>\n",
       "  <tbody>\n",
       "    <tr>\n",
       "      <th>0</th>\n",
       "      <td>2023-02-24</td>\n",
       "      <td>17:51:00</td>\n",
       "      <td>ABC</td>\n",
       "      <td>ABC: Miễn nhiệm bà Dương Thị Thương - Kế toán ...</td>\n",
       "    </tr>\n",
       "    <tr>\n",
       "      <th>1</th>\n",
       "      <td>2023-02-24</td>\n",
       "      <td>17:23:00</td>\n",
       "      <td>ABC</td>\n",
       "      <td>ABC: 3.3.2023, ngày GDKHQ Tham dự Đại hội đồng...</td>\n",
       "    </tr>\n",
       "    <tr>\n",
       "      <th>2</th>\n",
       "      <td>2023-02-20</td>\n",
       "      <td>15:37:00</td>\n",
       "      <td>ABC</td>\n",
       "      <td>ABC: Bổ nhiệm bà Hồ Thị Hà giữ chức người công...</td>\n",
       "    </tr>\n",
       "    <tr>\n",
       "      <th>3</th>\n",
       "      <td>2023-01-31</td>\n",
       "      <td>17:29:00</td>\n",
       "      <td>ABC</td>\n",
       "      <td>ABC: Báo cáo quản trị công ty năm 2022</td>\n",
       "    </tr>\n",
       "    <tr>\n",
       "      <th>4</th>\n",
       "      <td>2023-01-30</td>\n",
       "      <td>15:59:00</td>\n",
       "      <td>ACM</td>\n",
       "      <td>ACM: Đính chính Báo cáo quản trị công ty năm 2022</td>\n",
       "    </tr>\n",
       "    <tr>\n",
       "      <th>5</th>\n",
       "      <td>2023-02-17</td>\n",
       "      <td>15:05:00</td>\n",
       "      <td>AGF</td>\n",
       "      <td>AGF: 14.3.2023, ngày GDKHQ Tham dự đại hội đồn...</td>\n",
       "    </tr>\n",
       "    <tr>\n",
       "      <th>6</th>\n",
       "      <td>2023-02-13</td>\n",
       "      <td>16:52:00</td>\n",
       "      <td>AGF</td>\n",
       "      <td>AGF: Nghị quyết HĐQT thống nhất tổ chức ĐHĐCĐ ...</td>\n",
       "    </tr>\n",
       "    <tr>\n",
       "      <th>7</th>\n",
       "      <td>2023-02-10</td>\n",
       "      <td>14:44:00</td>\n",
       "      <td>AGF</td>\n",
       "      <td>AGF: Nghị quyết HĐQT v/v tổ chức ĐHĐCĐ TN 2023</td>\n",
       "    </tr>\n",
       "    <tr>\n",
       "      <th>8</th>\n",
       "      <td>2023-01-17</td>\n",
       "      <td>14:50:00</td>\n",
       "      <td>AGF</td>\n",
       "      <td>AGF: Báo cáo quản trị công ty năm 2022</td>\n",
       "    </tr>\n",
       "    <tr>\n",
       "      <th>9</th>\n",
       "      <td>2023-02-20</td>\n",
       "      <td>16:15:00</td>\n",
       "      <td>AMD</td>\n",
       "      <td>AMD: Nghị quyết HĐQT v/v triệu tập ĐHĐCĐ bất t...</td>\n",
       "    </tr>\n",
       "  </tbody>\n",
       "</table>\n",
       "</div>"
      ],
      "text/plain": [
       "        Date      Time Ma_CK  \\\n",
       "0 2023-02-24  17:51:00   ABC   \n",
       "1 2023-02-24  17:23:00   ABC   \n",
       "2 2023-02-20  15:37:00   ABC   \n",
       "3 2023-01-31  17:29:00   ABC   \n",
       "4 2023-01-30  15:59:00   ACM   \n",
       "5 2023-02-17  15:05:00   AGF   \n",
       "6 2023-02-13  16:52:00   AGF   \n",
       "7 2023-02-10  14:44:00   AGF   \n",
       "8 2023-01-17  14:50:00   AGF   \n",
       "9 2023-02-20  16:15:00   AMD   \n",
       "\n",
       "                                               Title  \n",
       "0  ABC: Miễn nhiệm bà Dương Thị Thương - Kế toán ...  \n",
       "1  ABC: 3.3.2023, ngày GDKHQ Tham dự Đại hội đồng...  \n",
       "2  ABC: Bổ nhiệm bà Hồ Thị Hà giữ chức người công...  \n",
       "3             ABC: Báo cáo quản trị công ty năm 2022  \n",
       "4  ACM: Đính chính Báo cáo quản trị công ty năm 2022  \n",
       "5  AGF: 14.3.2023, ngày GDKHQ Tham dự đại hội đồn...  \n",
       "6  AGF: Nghị quyết HĐQT thống nhất tổ chức ĐHĐCĐ ...  \n",
       "7     AGF: Nghị quyết HĐQT v/v tổ chức ĐHĐCĐ TN 2023  \n",
       "8             AGF: Báo cáo quản trị công ty năm 2022  \n",
       "9  AMD: Nghị quyết HĐQT v/v triệu tập ĐHĐCĐ bất t...  "
      ]
     },
     "execution_count": 48,
     "metadata": {},
     "output_type": "execute_result"
    }
   ],
   "source": [
    "from tabulate import tabulate\n",
    "title = pd.read_excel(parent+\"/data/processed/media07_01_2023.xlsx\")\n",
    "title = title[['Date', 'Time', 'Ma_CK', 'Title']]\n",
    "title.head(10)"
   ]
  },
  {
   "cell_type": "code",
   "execution_count": 49,
   "metadata": {
    "colab": {
     "base_uri": "https://localhost:8080/"
    },
    "executionInfo": {
     "elapsed": 8,
     "status": "ok",
     "timestamp": 1678275545728,
     "user": {
      "displayName": "Phuoc Tri Vo",
      "userId": "16150899667672929104"
     },
     "user_tz": -420
    },
    "id": "V9fCvfpcA74M",
    "outputId": "972c11cf-9e77-4416-9468-e748b814cdea"
   },
   "outputs": [
    {
     "name": "stdout",
     "output_type": "stream",
     "text": [
      "['ABC', 'ACM', 'AGF', 'AMD', 'AMP', 'APT', 'ASA', 'AST', 'ATA', 'ATB', 'ATG', 'BHC', 'BHT', 'BT6', 'C12', 'CDO', 'CEG', 'CIG', 'CLG', 'CMI', 'CPI', 'CTA', 'CYC', 'DCT', 'DDM', 'DHB', 'DIC', 'DLG', 'DLR', 'DP2', 'DXV', 'FLC', 'GAB', 'GGG', 'HAG', 'HAI', 'HAS', 'HFX', 'HKB', 'HLG', 'HLY', 'HNG', 'HNM', 'HOT', 'HPI', 'HSA', 'HSI', 'HTT', 'HU1', 'HU3', 'HVG', 'HVN', 'ISG', 'ITA', 'JOS', 'JVC', 'KAC', 'KHL', 'KSH', 'LCC', 'LCM', 'LHG', 'LM3', 'LO5', 'LQN', 'LTC', 'MCG', 'MCI', 'MES', 'MHC', 'MPT', 'MSN', 'MWG', 'NDF', 'NET', 'NOS', 'NSC', 'NSG', 'NT2', 'NVT', 'OGC', 'ONW', 'OPC', 'PAC', 'PAN', 'PBP', 'PC1', 'PCE', 'PCT', 'PET', 'PGC', 'PGD', 'PGS', 'PHH', 'PIT', 'PIV', 'PLC', 'PLO', 'PLX', 'PMB', 'PMG', 'PNJ', 'POM', 'POW', 'PPC', 'PRT', 'PSD', 'PTE', 'PTL', 'PVA', 'PVB', 'PVC', 'PVD', 'PVE', 'PVG', 'PVH', 'PVR', 'PVS', 'PVT', 'PVV', 'PVX', 'PVY', 'PXA', 'PXI', 'PXM', 'PXS', 'PXT', 'QBS', 'RCD', 'RDP', 'RIC', 'S12', 'S27', 'SAB', 'SAM', 'SBT', 'SBV', 'SCD', 'SCO', 'SD1', 'SD5', 'SD6', 'SDJ', 'SDP', 'SDY', 'SGO', 'SGT', 'SII', 'SJC', 'SJD', 'SMA', 'SP2', 'STT', 'TBH', 'TCJ', 'TCK', 'TCR', 'TDH', 'TGG', 'TH1', 'TNI', 'TNM', 'TOP', 'TS4', 'TSD', 'TTF', 'UDC', 'V11', 'VAT', 'VC5', 'VCT', 'VES', 'VFG', 'VIR', 'VNI', 'VOS', 'VPC', 'VSF', 'VST', 'VTG', 'VTI', 'VTR', 'VVN', 'X77', 'XPH']\n"
     ]
    }
   ],
   "source": [
    "stockword = title['Ma_CK'].unique().tolist()\n",
    "print(stockword)"
   ]
  },
  {
   "cell_type": "code",
   "execution_count": 50,
   "metadata": {
    "colab": {
     "base_uri": "https://localhost:8080/"
    },
    "executionInfo": {
     "elapsed": 10,
     "status": "ok",
     "timestamp": 1678275988152,
     "user": {
      "displayName": "Phuoc Tri Vo",
      "userId": "16150899667672929104"
     },
     "user_tz": -420
    },
    "id": "wVgQNClhwiaX",
    "outputId": "b997865a-72a5-4a03-8961-00f4084aef9f"
   },
   "outputs": [
    {
     "data": {
      "text/html": [
       "<div>\n",
       "<style scoped>\n",
       "    .dataframe tbody tr th:only-of-type {\n",
       "        vertical-align: middle;\n",
       "    }\n",
       "\n",
       "    .dataframe tbody tr th {\n",
       "        vertical-align: top;\n",
       "    }\n",
       "\n",
       "    .dataframe thead th {\n",
       "        text-align: right;\n",
       "    }\n",
       "</style>\n",
       "<table border=\"1\" class=\"dataframe\">\n",
       "  <thead>\n",
       "    <tr style=\"text-align: right;\">\n",
       "      <th></th>\n",
       "      <th>date</th>\n",
       "      <th>hour</th>\n",
       "      <th>ma_ck</th>\n",
       "      <th>title</th>\n",
       "    </tr>\n",
       "  </thead>\n",
       "  <tbody>\n",
       "    <tr>\n",
       "      <th>0</th>\n",
       "      <td>2023-02-24</td>\n",
       "      <td>17.5</td>\n",
       "      <td>ABC</td>\n",
       "      <td>ABC: Miễn nhiệm bà Dương Thị Thương - Kế toán ...</td>\n",
       "    </tr>\n",
       "    <tr>\n",
       "      <th>1</th>\n",
       "      <td>2023-02-24</td>\n",
       "      <td>17.2</td>\n",
       "      <td>ABC</td>\n",
       "      <td>ABC: 3.3.2023, ngày GDKHQ Tham dự Đại hội đồng...</td>\n",
       "    </tr>\n",
       "    <tr>\n",
       "      <th>2</th>\n",
       "      <td>2023-02-20</td>\n",
       "      <td>15.3</td>\n",
       "      <td>ABC</td>\n",
       "      <td>ABC: Bổ nhiệm bà Hồ Thị Hà giữ chức người công...</td>\n",
       "    </tr>\n",
       "    <tr>\n",
       "      <th>3</th>\n",
       "      <td>2023-01-31</td>\n",
       "      <td>17.2</td>\n",
       "      <td>ABC</td>\n",
       "      <td>ABC: Báo cáo quản trị công ty năm 2022</td>\n",
       "    </tr>\n",
       "    <tr>\n",
       "      <th>4</th>\n",
       "      <td>2023-01-30</td>\n",
       "      <td>15.5</td>\n",
       "      <td>ACM</td>\n",
       "      <td>ACM: Đính chính Báo cáo quản trị công ty năm 2022</td>\n",
       "    </tr>\n",
       "    <tr>\n",
       "      <th>5</th>\n",
       "      <td>2023-02-17</td>\n",
       "      <td>15.0</td>\n",
       "      <td>AGF</td>\n",
       "      <td>AGF: 14.3.2023, ngày GDKHQ Tham dự đại hội đồn...</td>\n",
       "    </tr>\n",
       "    <tr>\n",
       "      <th>6</th>\n",
       "      <td>2023-02-13</td>\n",
       "      <td>16.5</td>\n",
       "      <td>AGF</td>\n",
       "      <td>AGF: Nghị quyết HĐQT thống nhất tổ chức ĐHĐCĐ ...</td>\n",
       "    </tr>\n",
       "    <tr>\n",
       "      <th>7</th>\n",
       "      <td>2023-02-10</td>\n",
       "      <td>14.4</td>\n",
       "      <td>AGF</td>\n",
       "      <td>AGF: Nghị quyết HĐQT v/v tổ chức ĐHĐCĐ TN 2023</td>\n",
       "    </tr>\n",
       "    <tr>\n",
       "      <th>8</th>\n",
       "      <td>2023-01-17</td>\n",
       "      <td>14.5</td>\n",
       "      <td>AGF</td>\n",
       "      <td>AGF: Báo cáo quản trị công ty năm 2022</td>\n",
       "    </tr>\n",
       "    <tr>\n",
       "      <th>9</th>\n",
       "      <td>2023-02-20</td>\n",
       "      <td>16.1</td>\n",
       "      <td>AMD</td>\n",
       "      <td>AMD: Nghị quyết HĐQT v/v triệu tập ĐHĐCĐ bất t...</td>\n",
       "    </tr>\n",
       "  </tbody>\n",
       "</table>\n",
       "</div>"
      ],
      "text/plain": [
       "        date  hour ma_ck                                              title\n",
       "0 2023-02-24  17.5   ABC  ABC: Miễn nhiệm bà Dương Thị Thương - Kế toán ...\n",
       "1 2023-02-24  17.2   ABC  ABC: 3.3.2023, ngày GDKHQ Tham dự Đại hội đồng...\n",
       "2 2023-02-20  15.3   ABC  ABC: Bổ nhiệm bà Hồ Thị Hà giữ chức người công...\n",
       "3 2023-01-31  17.2   ABC             ABC: Báo cáo quản trị công ty năm 2022\n",
       "4 2023-01-30  15.5   ACM  ACM: Đính chính Báo cáo quản trị công ty năm 2022\n",
       "5 2023-02-17  15.0   AGF  AGF: 14.3.2023, ngày GDKHQ Tham dự đại hội đồn...\n",
       "6 2023-02-13  16.5   AGF  AGF: Nghị quyết HĐQT thống nhất tổ chức ĐHĐCĐ ...\n",
       "7 2023-02-10  14.4   AGF     AGF: Nghị quyết HĐQT v/v tổ chức ĐHĐCĐ TN 2023\n",
       "8 2023-01-17  14.5   AGF             AGF: Báo cáo quản trị công ty năm 2022\n",
       "9 2023-02-20  16.1   AMD  AMD: Nghị quyết HĐQT v/v triệu tập ĐHĐCĐ bất t..."
      ]
     },
     "execution_count": 50,
     "metadata": {},
     "output_type": "execute_result"
    }
   ],
   "source": [
    "title['Time'] = title['Time'].str[:4].str.replace(':', '.').astype('float')\n",
    "title['Date'] = pd.DatetimeIndex(title['Date'])\n",
    "title = title.rename(columns={'Date':'date',\n",
    "                              'Time':'hour',\n",
    "                              'Ma_CK':'ma_ck',\n",
    "                              'Title':'title'})\n",
    "title = title.dropna().reset_index(drop=True)\n",
    "title.head(10)"
   ]
  },
  {
   "cell_type": "markdown",
   "metadata": {
    "id": "1PAr6PFAf9H1"
   },
   "source": [
    "# Xu ly NLP"
   ]
  },
  {
   "cell_type": "code",
   "execution_count": 51,
   "metadata": {
    "id": "WlsNAbv28FMu"
   },
   "outputs": [],
   "source": [
    "full_content_new = []\n",
    "for i in range(len(title)):\n",
    "    text = title.loc[i][\"title\"]\n",
    "    full_content_new.append(clean_text(text, stockword))"
   ]
  },
  {
   "cell_type": "code",
   "execution_count": 52,
   "metadata": {
    "colab": {
     "base_uri": "https://localhost:8080/"
    },
    "executionInfo": {
     "elapsed": 8,
     "status": "ok",
     "timestamp": 1678276365345,
     "user": {
      "displayName": "Phuoc Tri Vo",
      "userId": "16150899667672929104"
     },
     "user_tz": -420
    },
    "id": "5EZWT2go8iHA",
    "outputId": "b5c2e38c-3764-4518-ba36-a34510dcc71b"
   },
   "outputs": [
    {
     "data": {
      "text/html": [
       "<div>\n",
       "<style scoped>\n",
       "    .dataframe tbody tr th:only-of-type {\n",
       "        vertical-align: middle;\n",
       "    }\n",
       "\n",
       "    .dataframe tbody tr th {\n",
       "        vertical-align: top;\n",
       "    }\n",
       "\n",
       "    .dataframe thead th {\n",
       "        text-align: right;\n",
       "    }\n",
       "</style>\n",
       "<table border=\"1\" class=\"dataframe\">\n",
       "  <thead>\n",
       "    <tr style=\"text-align: right;\">\n",
       "      <th></th>\n",
       "      <th>title</th>\n",
       "      <th>title_new</th>\n",
       "    </tr>\n",
       "  </thead>\n",
       "  <tbody>\n",
       "    <tr>\n",
       "      <th>0</th>\n",
       "      <td>ABC: Miễn nhiệm bà Dương Thị Thương - Kế toán ...</td>\n",
       "      <td>miễn_nhiệm dương thị_thương kế_toán_trưởng</td>\n",
       "    </tr>\n",
       "    <tr>\n",
       "      <th>1</th>\n",
       "      <td>ABC: 3.3.2023, ngày GDKHQ Tham dự Đại hội đồng...</td>\n",
       "      <td>tham_dự đại_hội_đồng cổ_đông thường_niên</td>\n",
       "    </tr>\n",
       "    <tr>\n",
       "      <th>2</th>\n",
       "      <td>ABC: Bổ nhiệm bà Hồ Thị Hà giữ chức người công...</td>\n",
       "      <td>bổ_nhiệm hồ thị hà giữ chức người công_bố thôn...</td>\n",
       "    </tr>\n",
       "    <tr>\n",
       "      <th>3</th>\n",
       "      <td>ABC: Báo cáo quản trị công ty năm 2022</td>\n",
       "      <td>báo_cáo quản_trị công_ty</td>\n",
       "    </tr>\n",
       "    <tr>\n",
       "      <th>4</th>\n",
       "      <td>ACM: Đính chính Báo cáo quản trị công ty năm 2022</td>\n",
       "      <td>đính_chính báo_cáo quản_trị công_ty</td>\n",
       "    </tr>\n",
       "    <tr>\n",
       "      <th>5</th>\n",
       "      <td>AGF: 14.3.2023, ngày GDKHQ Tham dự đại hội đồn...</td>\n",
       "      <td>tham_dự đại_hội_đồng cổ_đông thường_niên</td>\n",
       "    </tr>\n",
       "    <tr>\n",
       "      <th>6</th>\n",
       "      <td>AGF: Nghị quyết HĐQT thống nhất tổ chức ĐHĐCĐ ...</td>\n",
       "      <td>nghị_quyết hđqt thống_nhất tổ_chức đhđcđ</td>\n",
       "    </tr>\n",
       "    <tr>\n",
       "      <th>7</th>\n",
       "      <td>AGF: Nghị quyết HĐQT v/v tổ chức ĐHĐCĐ TN 2023</td>\n",
       "      <td>nghị_quyết hđqt v v tổ_chức đhđcđ</td>\n",
       "    </tr>\n",
       "    <tr>\n",
       "      <th>8</th>\n",
       "      <td>AGF: Báo cáo quản trị công ty năm 2022</td>\n",
       "      <td>báo_cáo quản_trị công_ty</td>\n",
       "    </tr>\n",
       "    <tr>\n",
       "      <th>9</th>\n",
       "      <td>AMD: Nghị quyết HĐQT v/v triệu tập ĐHĐCĐ bất t...</td>\n",
       "      <td>nghị_quyết hđqt v v triệu_tập đhđcđ bất_thường</td>\n",
       "    </tr>\n",
       "  </tbody>\n",
       "</table>\n",
       "</div>"
      ],
      "text/plain": [
       "                                               title  \\\n",
       "0  ABC: Miễn nhiệm bà Dương Thị Thương - Kế toán ...   \n",
       "1  ABC: 3.3.2023, ngày GDKHQ Tham dự Đại hội đồng...   \n",
       "2  ABC: Bổ nhiệm bà Hồ Thị Hà giữ chức người công...   \n",
       "3             ABC: Báo cáo quản trị công ty năm 2022   \n",
       "4  ACM: Đính chính Báo cáo quản trị công ty năm 2022   \n",
       "5  AGF: 14.3.2023, ngày GDKHQ Tham dự đại hội đồn...   \n",
       "6  AGF: Nghị quyết HĐQT thống nhất tổ chức ĐHĐCĐ ...   \n",
       "7     AGF: Nghị quyết HĐQT v/v tổ chức ĐHĐCĐ TN 2023   \n",
       "8             AGF: Báo cáo quản trị công ty năm 2022   \n",
       "9  AMD: Nghị quyết HĐQT v/v triệu tập ĐHĐCĐ bất t...   \n",
       "\n",
       "                                           title_new  \n",
       "0         miễn_nhiệm dương thị_thương kế_toán_trưởng  \n",
       "1           tham_dự đại_hội_đồng cổ_đông thường_niên  \n",
       "2  bổ_nhiệm hồ thị hà giữ chức người công_bố thôn...  \n",
       "3                           báo_cáo quản_trị công_ty  \n",
       "4                đính_chính báo_cáo quản_trị công_ty  \n",
       "5           tham_dự đại_hội_đồng cổ_đông thường_niên  \n",
       "6           nghị_quyết hđqt thống_nhất tổ_chức đhđcđ  \n",
       "7                  nghị_quyết hđqt v v tổ_chức đhđcđ  \n",
       "8                           báo_cáo quản_trị công_ty  \n",
       "9     nghị_quyết hđqt v v triệu_tập đhđcđ bất_thường  "
      ]
     },
     "execution_count": 52,
     "metadata": {},
     "output_type": "execute_result"
    }
   ],
   "source": [
    "processed_data = pd.DataFrame.from_dict({\"title\":title[\"title\"], \"title_new\":full_content_new})\n",
    "processed_data.head(10)"
   ]
  },
  {
   "cell_type": "code",
   "execution_count": 53,
   "metadata": {
    "id": "fbN7Yz95flid"
   },
   "outputs": [],
   "source": [
    "title_backup = title.copy()"
   ]
  },
  {
   "cell_type": "code",
   "execution_count": 54,
   "metadata": {
    "colab": {
     "base_uri": "https://localhost:8080/",
     "height": 589
    },
    "executionInfo": {
     "elapsed": 17,
     "status": "ok",
     "timestamp": 1677987536736,
     "user": {
      "displayName": "Phuoc Tri Vo",
      "userId": "16150899667672929104"
     },
     "user_tz": -420
    },
    "id": "0o-1REVeASF1",
    "outputId": "9574a790-3ece-4a20-a35d-c3d0f982462c"
   },
   "outputs": [
    {
     "name": "stderr",
     "output_type": "stream",
     "text": [
      "/var/folders/gb/c3ht2hrn2flb60_14d0l5d_40000gn/T/ipykernel_42896/730477268.py:4: SettingWithCopyWarning: \n",
      "A value is trying to be set on a copy of a slice from a DataFrame\n",
      "\n",
      "See the caveats in the documentation: https://pandas.pydata.org/pandas-docs/stable/user_guide/indexing.html#returning-a-view-versus-a-copy\n",
      "  title['date'][title['weekday']=='Sunday'] = title[title['weekday']=='Sunday']['date'] - timedelta(days=2)\n",
      "/var/folders/gb/c3ht2hrn2flb60_14d0l5d_40000gn/T/ipykernel_42896/730477268.py:5: SettingWithCopyWarning: \n",
      "A value is trying to be set on a copy of a slice from a DataFrame\n",
      "\n",
      "See the caveats in the documentation: https://pandas.pydata.org/pandas-docs/stable/user_guide/indexing.html#returning-a-view-versus-a-copy\n",
      "  title['date'][title['weekday']=='Saturday'] = title[title['weekday']=='Saturday']['date'] - timedelta(days=1)\n"
     ]
    }
   ],
   "source": [
    "from datetime import datetime, timedelta\n",
    "title = title_backup.copy()\n",
    "title['weekday'] = title['date'].dt.day_name()\n",
    "title['date'][title['weekday']=='Sunday'] = title[title['weekday']=='Sunday']['date'] - timedelta(days=2)\n",
    "title['date'][title['weekday']=='Saturday'] = title[title['weekday']=='Saturday']['date'] - timedelta(days=1)"
   ]
  },
  {
   "cell_type": "code",
   "execution_count": 55,
   "metadata": {
    "colab": {
     "base_uri": "https://localhost:8080/"
    },
    "executionInfo": {
     "elapsed": 12,
     "status": "ok",
     "timestamp": 1677987536737,
     "user": {
      "displayName": "Phuoc Tri Vo",
      "userId": "16150899667672929104"
     },
     "user_tz": -420
    },
    "id": "nHS1DK5WfT7A",
    "outputId": "984652b3-f6fe-479e-9acd-b3a7cd82024e"
   },
   "outputs": [
    {
     "data": {
      "text/plain": [
       "Tuesday      203\n",
       "Thursday     173\n",
       "Monday       148\n",
       "Friday       139\n",
       "Wednesday    136\n",
       "Sunday        13\n",
       "Saturday       9\n",
       "Name: weekday, dtype: int64"
      ]
     },
     "execution_count": 55,
     "metadata": {},
     "output_type": "execute_result"
    }
   ],
   "source": [
    "title['weekday'].value_counts()"
   ]
  },
  {
   "cell_type": "code",
   "execution_count": 56,
   "metadata": {
    "colab": {
     "base_uri": "https://localhost:8080/",
     "height": 589
    },
    "executionInfo": {
     "elapsed": 1150,
     "status": "ok",
     "timestamp": 1677987537879,
     "user": {
      "displayName": "Phuoc Tri Vo",
      "userId": "16150899667672929104"
     },
     "user_tz": -420
    },
    "id": "b1ZE6_8iKU0X",
    "outputId": "f4ccdabd-16e0-4c2d-f988-4ba6be9fec33"
   },
   "outputs": [
    {
     "name": "stderr",
     "output_type": "stream",
     "text": [
      "/var/folders/gb/c3ht2hrn2flb60_14d0l5d_40000gn/T/ipykernel_42896/33079125.py:1: SettingWithCopyWarning: \n",
      "A value is trying to be set on a copy of a slice from a DataFrame\n",
      "\n",
      "See the caveats in the documentation: https://pandas.pydata.org/pandas-docs/stable/user_guide/indexing.html#returning-a-view-versus-a-copy\n",
      "  title['hour'][title['weekday']=='Sunday'] = 19\n",
      "/var/folders/gb/c3ht2hrn2flb60_14d0l5d_40000gn/T/ipykernel_42896/33079125.py:2: SettingWithCopyWarning: \n",
      "A value is trying to be set on a copy of a slice from a DataFrame\n",
      "\n",
      "See the caveats in the documentation: https://pandas.pydata.org/pandas-docs/stable/user_guide/indexing.html#returning-a-view-versus-a-copy\n",
      "  title['hour'][title['weekday']=='Saturday'] = 19\n"
     ]
    },
    {
     "data": {
      "text/html": [
       "<div>\n",
       "<style scoped>\n",
       "    .dataframe tbody tr th:only-of-type {\n",
       "        vertical-align: middle;\n",
       "    }\n",
       "\n",
       "    .dataframe tbody tr th {\n",
       "        vertical-align: top;\n",
       "    }\n",
       "\n",
       "    .dataframe thead th {\n",
       "        text-align: right;\n",
       "    }\n",
       "</style>\n",
       "<table border=\"1\" class=\"dataframe\">\n",
       "  <thead>\n",
       "    <tr style=\"text-align: right;\">\n",
       "      <th></th>\n",
       "      <th>date</th>\n",
       "      <th>hour</th>\n",
       "      <th>ma_ck</th>\n",
       "      <th>title</th>\n",
       "      <th>weekday</th>\n",
       "    </tr>\n",
       "  </thead>\n",
       "  <tbody>\n",
       "    <tr>\n",
       "      <th>0</th>\n",
       "      <td>2023-02-24</td>\n",
       "      <td>17.5</td>\n",
       "      <td>ABC</td>\n",
       "      <td>ABC: Miễn nhiệm bà Dương Thị Thương - Kế toán ...</td>\n",
       "      <td>Friday</td>\n",
       "    </tr>\n",
       "    <tr>\n",
       "      <th>1</th>\n",
       "      <td>2023-02-24</td>\n",
       "      <td>17.2</td>\n",
       "      <td>ABC</td>\n",
       "      <td>ABC: 3.3.2023, ngày GDKHQ Tham dự Đại hội đồng...</td>\n",
       "      <td>Friday</td>\n",
       "    </tr>\n",
       "    <tr>\n",
       "      <th>2</th>\n",
       "      <td>2023-02-20</td>\n",
       "      <td>15.3</td>\n",
       "      <td>ABC</td>\n",
       "      <td>ABC: Bổ nhiệm bà Hồ Thị Hà giữ chức người công...</td>\n",
       "      <td>Monday</td>\n",
       "    </tr>\n",
       "    <tr>\n",
       "      <th>3</th>\n",
       "      <td>2023-01-31</td>\n",
       "      <td>17.2</td>\n",
       "      <td>ABC</td>\n",
       "      <td>ABC: Báo cáo quản trị công ty năm 2022</td>\n",
       "      <td>Tuesday</td>\n",
       "    </tr>\n",
       "    <tr>\n",
       "      <th>4</th>\n",
       "      <td>2023-01-30</td>\n",
       "      <td>15.5</td>\n",
       "      <td>ACM</td>\n",
       "      <td>ACM: Đính chính Báo cáo quản trị công ty năm 2022</td>\n",
       "      <td>Monday</td>\n",
       "    </tr>\n",
       "    <tr>\n",
       "      <th>...</th>\n",
       "      <td>...</td>\n",
       "      <td>...</td>\n",
       "      <td>...</td>\n",
       "      <td>...</td>\n",
       "      <td>...</td>\n",
       "    </tr>\n",
       "    <tr>\n",
       "      <th>816</th>\n",
       "      <td>2023-01-18</td>\n",
       "      <td>8.1</td>\n",
       "      <td>X77</td>\n",
       "      <td>X77: Báo cáo quản trị công ty năm 2022</td>\n",
       "      <td>Wednesday</td>\n",
       "    </tr>\n",
       "    <tr>\n",
       "      <th>817</th>\n",
       "      <td>2023-02-09</td>\n",
       "      <td>13.2</td>\n",
       "      <td>XPH</td>\n",
       "      <td>XPH: Bổ nhiệm ông Lê Mạnh Cường giữ chức Phụ t...</td>\n",
       "      <td>Thursday</td>\n",
       "    </tr>\n",
       "    <tr>\n",
       "      <th>818</th>\n",
       "      <td>2023-02-09</td>\n",
       "      <td>13.2</td>\n",
       "      <td>XPH</td>\n",
       "      <td>XPH: Quyết định duy trì diện bị hạn chế giao d...</td>\n",
       "      <td>Thursday</td>\n",
       "    </tr>\n",
       "    <tr>\n",
       "      <th>819</th>\n",
       "      <td>2023-02-03</td>\n",
       "      <td>8.5</td>\n",
       "      <td>XPH</td>\n",
       "      <td>XPH: Giải trình liên quan đến Báo cáo tài chín...</td>\n",
       "      <td>Friday</td>\n",
       "    </tr>\n",
       "    <tr>\n",
       "      <th>820</th>\n",
       "      <td>2023-02-02</td>\n",
       "      <td>13.4</td>\n",
       "      <td>XPH</td>\n",
       "      <td>XPH: Báo cáo quản trị công ty năm 2022</td>\n",
       "      <td>Thursday</td>\n",
       "    </tr>\n",
       "  </tbody>\n",
       "</table>\n",
       "<p>821 rows × 5 columns</p>\n",
       "</div>"
      ],
      "text/plain": [
       "          date  hour ma_ck                                              title  \\\n",
       "0   2023-02-24  17.5   ABC  ABC: Miễn nhiệm bà Dương Thị Thương - Kế toán ...   \n",
       "1   2023-02-24  17.2   ABC  ABC: 3.3.2023, ngày GDKHQ Tham dự Đại hội đồng...   \n",
       "2   2023-02-20  15.3   ABC  ABC: Bổ nhiệm bà Hồ Thị Hà giữ chức người công...   \n",
       "3   2023-01-31  17.2   ABC             ABC: Báo cáo quản trị công ty năm 2022   \n",
       "4   2023-01-30  15.5   ACM  ACM: Đính chính Báo cáo quản trị công ty năm 2022   \n",
       "..         ...   ...   ...                                                ...   \n",
       "816 2023-01-18   8.1   X77             X77: Báo cáo quản trị công ty năm 2022   \n",
       "817 2023-02-09  13.2   XPH  XPH: Bổ nhiệm ông Lê Mạnh Cường giữ chức Phụ t...   \n",
       "818 2023-02-09  13.2   XPH  XPH: Quyết định duy trì diện bị hạn chế giao d...   \n",
       "819 2023-02-03   8.5   XPH  XPH: Giải trình liên quan đến Báo cáo tài chín...   \n",
       "820 2023-02-02  13.4   XPH             XPH: Báo cáo quản trị công ty năm 2022   \n",
       "\n",
       "       weekday  \n",
       "0       Friday  \n",
       "1       Friday  \n",
       "2       Monday  \n",
       "3      Tuesday  \n",
       "4       Monday  \n",
       "..         ...  \n",
       "816  Wednesday  \n",
       "817   Thursday  \n",
       "818   Thursday  \n",
       "819     Friday  \n",
       "820   Thursday  \n",
       "\n",
       "[821 rows x 5 columns]"
      ]
     },
     "execution_count": 56,
     "metadata": {},
     "output_type": "execute_result"
    }
   ],
   "source": [
    "title['hour'][title['weekday']=='Sunday'] = 19\n",
    "title['hour'][title['weekday']=='Saturday'] = 19\n",
    "title"
   ]
  },
  {
   "cell_type": "markdown",
   "metadata": {
    "id": "b8cfwiC5giCn"
   },
   "source": [
    "# Ghep bang gia va NLP"
   ]
  },
  {
   "cell_type": "code",
   "execution_count": 57,
   "metadata": {
    "colab": {
     "base_uri": "https://localhost:8080/"
    },
    "executionInfo": {
     "elapsed": 525,
     "status": "ok",
     "timestamp": 1678277875711,
     "user": {
      "displayName": "Phuoc Tri Vo",
      "userId": "16150899667672929104"
     },
     "user_tz": -420
    },
    "id": "DfgdNxgnE-hy",
    "outputId": "cbf05a76-8b9d-4b5d-8a05-7fdfe0c08d9f"
   },
   "outputs": [
    {
     "data": {
      "text/html": [
       "<div>\n",
       "<style scoped>\n",
       "    .dataframe tbody tr th:only-of-type {\n",
       "        vertical-align: middle;\n",
       "    }\n",
       "\n",
       "    .dataframe tbody tr th {\n",
       "        vertical-align: top;\n",
       "    }\n",
       "\n",
       "    .dataframe thead th {\n",
       "        text-align: right;\n",
       "    }\n",
       "</style>\n",
       "<table border=\"1\" class=\"dataframe\">\n",
       "  <thead>\n",
       "    <tr style=\"text-align: right;\">\n",
       "      <th></th>\n",
       "      <th>date</th>\n",
       "      <th>hour</th>\n",
       "      <th>ma_ck</th>\n",
       "      <th>title</th>\n",
       "      <th>weekday</th>\n",
       "      <th>title_new</th>\n",
       "    </tr>\n",
       "  </thead>\n",
       "  <tbody>\n",
       "    <tr>\n",
       "      <th>0</th>\n",
       "      <td>2023-02-24</td>\n",
       "      <td>17.5</td>\n",
       "      <td>ABC</td>\n",
       "      <td>ABC: Miễn nhiệm bà Dương Thị Thương - Kế toán ...</td>\n",
       "      <td>Friday</td>\n",
       "      <td>miễn_nhiệm dương thị_thương kế_toán_trưởng</td>\n",
       "    </tr>\n",
       "    <tr>\n",
       "      <th>1</th>\n",
       "      <td>2023-02-24</td>\n",
       "      <td>17.2</td>\n",
       "      <td>ABC</td>\n",
       "      <td>ABC: 3.3.2023, ngày GDKHQ Tham dự Đại hội đồng...</td>\n",
       "      <td>Friday</td>\n",
       "      <td>tham_dự đại_hội_đồng cổ_đông thường_niên</td>\n",
       "    </tr>\n",
       "    <tr>\n",
       "      <th>2</th>\n",
       "      <td>2023-02-20</td>\n",
       "      <td>15.3</td>\n",
       "      <td>ABC</td>\n",
       "      <td>ABC: Bổ nhiệm bà Hồ Thị Hà giữ chức người công...</td>\n",
       "      <td>Monday</td>\n",
       "      <td>bổ_nhiệm hồ thị hà giữ chức người công_bố thôn...</td>\n",
       "    </tr>\n",
       "    <tr>\n",
       "      <th>3</th>\n",
       "      <td>2023-01-31</td>\n",
       "      <td>17.2</td>\n",
       "      <td>ABC</td>\n",
       "      <td>ABC: Báo cáo quản trị công ty năm 2022</td>\n",
       "      <td>Tuesday</td>\n",
       "      <td>báo_cáo quản_trị công_ty</td>\n",
       "    </tr>\n",
       "    <tr>\n",
       "      <th>4</th>\n",
       "      <td>2023-01-30</td>\n",
       "      <td>15.5</td>\n",
       "      <td>ACM</td>\n",
       "      <td>ACM: Đính chính Báo cáo quản trị công ty năm 2022</td>\n",
       "      <td>Monday</td>\n",
       "      <td>đính_chính báo_cáo quản_trị công_ty</td>\n",
       "    </tr>\n",
       "    <tr>\n",
       "      <th>5</th>\n",
       "      <td>2023-02-17</td>\n",
       "      <td>15.0</td>\n",
       "      <td>AGF</td>\n",
       "      <td>AGF: 14.3.2023, ngày GDKHQ Tham dự đại hội đồn...</td>\n",
       "      <td>Friday</td>\n",
       "      <td>tham_dự đại_hội_đồng cổ_đông thường_niên</td>\n",
       "    </tr>\n",
       "    <tr>\n",
       "      <th>6</th>\n",
       "      <td>2023-02-13</td>\n",
       "      <td>16.5</td>\n",
       "      <td>AGF</td>\n",
       "      <td>AGF: Nghị quyết HĐQT thống nhất tổ chức ĐHĐCĐ ...</td>\n",
       "      <td>Monday</td>\n",
       "      <td>nghị_quyết hđqt thống_nhất tổ_chức đhđcđ</td>\n",
       "    </tr>\n",
       "    <tr>\n",
       "      <th>7</th>\n",
       "      <td>2023-02-10</td>\n",
       "      <td>14.4</td>\n",
       "      <td>AGF</td>\n",
       "      <td>AGF: Nghị quyết HĐQT v/v tổ chức ĐHĐCĐ TN 2023</td>\n",
       "      <td>Friday</td>\n",
       "      <td>nghị_quyết hđqt v v tổ_chức đhđcđ</td>\n",
       "    </tr>\n",
       "    <tr>\n",
       "      <th>8</th>\n",
       "      <td>2023-01-17</td>\n",
       "      <td>14.5</td>\n",
       "      <td>AGF</td>\n",
       "      <td>AGF: Báo cáo quản trị công ty năm 2022</td>\n",
       "      <td>Tuesday</td>\n",
       "      <td>báo_cáo quản_trị công_ty</td>\n",
       "    </tr>\n",
       "    <tr>\n",
       "      <th>9</th>\n",
       "      <td>2023-02-20</td>\n",
       "      <td>16.1</td>\n",
       "      <td>AMD</td>\n",
       "      <td>AMD: Nghị quyết HĐQT v/v triệu tập ĐHĐCĐ bất t...</td>\n",
       "      <td>Monday</td>\n",
       "      <td>nghị_quyết hđqt v v triệu_tập đhđcđ bất_thường</td>\n",
       "    </tr>\n",
       "  </tbody>\n",
       "</table>\n",
       "</div>"
      ],
      "text/plain": [
       "        date  hour ma_ck                                              title  \\\n",
       "0 2023-02-24  17.5   ABC  ABC: Miễn nhiệm bà Dương Thị Thương - Kế toán ...   \n",
       "1 2023-02-24  17.2   ABC  ABC: 3.3.2023, ngày GDKHQ Tham dự Đại hội đồng...   \n",
       "2 2023-02-20  15.3   ABC  ABC: Bổ nhiệm bà Hồ Thị Hà giữ chức người công...   \n",
       "3 2023-01-31  17.2   ABC             ABC: Báo cáo quản trị công ty năm 2022   \n",
       "4 2023-01-30  15.5   ACM  ACM: Đính chính Báo cáo quản trị công ty năm 2022   \n",
       "5 2023-02-17  15.0   AGF  AGF: 14.3.2023, ngày GDKHQ Tham dự đại hội đồn...   \n",
       "6 2023-02-13  16.5   AGF  AGF: Nghị quyết HĐQT thống nhất tổ chức ĐHĐCĐ ...   \n",
       "7 2023-02-10  14.4   AGF     AGF: Nghị quyết HĐQT v/v tổ chức ĐHĐCĐ TN 2023   \n",
       "8 2023-01-17  14.5   AGF             AGF: Báo cáo quản trị công ty năm 2022   \n",
       "9 2023-02-20  16.1   AMD  AMD: Nghị quyết HĐQT v/v triệu tập ĐHĐCĐ bất t...   \n",
       "\n",
       "   weekday                                          title_new  \n",
       "0   Friday         miễn_nhiệm dương thị_thương kế_toán_trưởng  \n",
       "1   Friday           tham_dự đại_hội_đồng cổ_đông thường_niên  \n",
       "2   Monday  bổ_nhiệm hồ thị hà giữ chức người công_bố thôn...  \n",
       "3  Tuesday                           báo_cáo quản_trị công_ty  \n",
       "4   Monday                đính_chính báo_cáo quản_trị công_ty  \n",
       "5   Friday           tham_dự đại_hội_đồng cổ_đông thường_niên  \n",
       "6   Monday           nghị_quyết hđqt thống_nhất tổ_chức đhđcđ  \n",
       "7   Friday                  nghị_quyết hđqt v v tổ_chức đhđcđ  \n",
       "8  Tuesday                           báo_cáo quản_trị công_ty  \n",
       "9   Monday     nghị_quyết hđqt v v triệu_tập đhđcđ bất_thường  "
      ]
     },
     "execution_count": 57,
     "metadata": {},
     "output_type": "execute_result"
    }
   ],
   "source": [
    "df_delta = title.copy()\n",
    "df_delta['title_new'] = processed_data['title_new']\n",
    "df_delta.head(10)"
   ]
  },
  {
   "cell_type": "code",
   "execution_count": 58,
   "metadata": {
    "id": "4TMHs90K4d5K"
   },
   "outputs": [],
   "source": [
    "df_delta.to_csv(parent+'/data/processed/NLP.csv', index=False)"
   ]
  },
  {
   "cell_type": "code",
   "execution_count": null,
   "metadata": {},
   "outputs": [],
   "source": []
  }
 ],
 "metadata": {
  "colab": {
   "provenance": []
  },
  "kernelspec": {
   "display_name": "Python 3 (ipykernel)",
   "language": "python",
   "name": "python3"
  },
  "language_info": {
   "codemirror_mode": {
    "name": "ipython",
    "version": 3
   },
   "file_extension": ".py",
   "mimetype": "text/x-python",
   "name": "python",
   "nbconvert_exporter": "python",
   "pygments_lexer": "ipython3",
   "version": "3.8.17"
  }
 },
 "nbformat": 4,
 "nbformat_minor": 1
}
